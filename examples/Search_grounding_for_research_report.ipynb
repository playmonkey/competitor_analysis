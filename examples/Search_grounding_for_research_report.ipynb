{
  "cells": [
    {
      "cell_type": "markdown",
      "metadata": {
        "id": "view-in-github",
        "colab_type": "text"
      },
      "source": [
        "<a href=\"https://colab.research.google.com/github/playmonkey/competitor_analysis/blob/main/examples/Search_grounding_for_research_report.ipynb\" target=\"_parent\"><img src=\"https://colab.research.google.com/assets/colab-badge.svg\" alt=\"Open In Colab\"/></a>"
      ]
    },
    {
      "cell_type": "markdown",
      "metadata": {
        "id": "lb5yiH5h8x3h"
      },
      "source": [
        "##### Copyright 2025 Google LLC."
      ]
    },
    {
      "cell_type": "code",
      "execution_count": 20,
      "metadata": {
        "cellView": "form",
        "id": "906e07f6e562"
      },
      "outputs": [],
      "source": [
        "#@title Licensed under the Apache License, Version 2.0 (the \"License\");\n",
        "# you may not use this file except in compliance with the License.\n",
        "# You may obtain a copy of the License at\n",
        "#\n",
        "# https://www.apache.org/licenses/LICENSE-2.0\n",
        "#\n",
        "# Unless required by applicable law or agreed to in writing, software\n",
        "# distributed under the License is distributed on an \"AS IS\" BASIS,\n",
        "# WITHOUT WARRANTIES OR CONDITIONS OF ANY KIND, either express or implied.\n",
        "# See the License for the specific language governing permissions and\n",
        "# limitations under the License."
      ]
    },
    {
      "cell_type": "markdown",
      "metadata": {
        "id": "1YXR7Yn480fU"
      },
      "source": [
        "# Search tool with Gemini 2.0"
      ]
    },
    {
      "cell_type": "markdown",
      "metadata": {
        "id": "CeJyB7rG82ph"
      },
      "source": [
        "<a target=\"_blank\" href=\"https://colab.research.google.com/github/google-gemini/cookbook/blob/main/examples/Search_grounding_for_research_report.ipynb\"><img src=\"https://colab.research.google.com/assets/colab-badge.svg\" height=30/></a>"
      ]
    },
    {
      "cell_type": "markdown",
      "metadata": {
        "id": "___eV40o8399"
      },
      "source": [
        "In this tutorial you are going to leverage the latest [search tool](https://ai.google.dev/gemini-api/docs/models/gemini-v2#search-tool) of the Gemini 2.0 model to write a company report. Note that the search tool is a paid ony feature and this tutorial does not work with a free tier API key.\n",
        "\n",
        "You may be asking, why does one need to use the search tool for this purpose? Well, as you may be aware, today's business world evolves very fast and LLMs generally are not trained frequently enough to capture the latest updates. Luckily Google search comes to the rescue. Google search is built to provide accurate and nearly realtime information and can help us fulfill this task perfectly.\n",
        "\n",
        "Note that while Gemini 1.5 models offered the [search grounding](https://ai.google.dev/gemini-api/docs/grounding) feature which may also help you achieve similar results (see [a previous notebook](https://github.com/google-gemini/cookbook/blob/gemini-1.5-archive/examples/Search_grounding_for_research_report.ipynb) using search grounding), the new search tool in Gemini 2.0 models is much more powerful and easier to use, and should be prioritized over search grounding. It is also possible to use multiple tools together (for example, search tool and function calling)."
      ]
    },
    {
      "cell_type": "markdown",
      "metadata": {
        "id": "Mfk6YY3G5kqp"
      },
      "source": [
        "## Setup"
      ]
    },
    {
      "cell_type": "markdown",
      "metadata": {
        "id": "d5027929de8f"
      },
      "source": [
        "### Install SDK\n",
        "\n",
        "The new **[Google Gen AI SDK](https://ai.google.dev/gemini-api/docs/sdks)** provides programmatic access to Gemini 2.0 (and previous models) using both the [Google AI for Developers](https://ai.google.dev/gemini-api/docs) and [Vertex AI](https://cloud.google.com/vertex-ai/generative-ai/docs/overview) APIs. With a few exceptions, code that runs on one platform will run on both. This means that you can prototype an application using the Developer API and then migrate the application to Vertex AI without rewriting your code.\n",
        "\n",
        "More details about this new SDK on the [documentation](https://ai.google.dev/gemini-api/docs/sdks) or in the [Getting started](../quickstarts/Get_started.ipynb) notebook."
      ]
    },
    {
      "cell_type": "code",
      "execution_count": 4,
      "metadata": {
        "id": "46zEFO2a9FFd",
        "outputId": "82219670-63be-4da4-adc6-733fb1753d10",
        "colab": {
          "base_uri": "https://localhost:8080/"
        }
      },
      "outputs": [
        {
          "output_type": "stream",
          "name": "stdout",
          "text": [
            "\u001b[?25l   \u001b[90m━━━━━━━━━━━━━━━━━━━━━━━━━━━━━━━━━━━━━━━━\u001b[0m \u001b[32m0.0/159.7 kB\u001b[0m \u001b[31m?\u001b[0m eta \u001b[36m-:--:--\u001b[0m\r\u001b[2K   \u001b[90m━━━━━━━━━━━━━━━━━━━━━━━━━━━━━━━━━━━━━━━━\u001b[0m \u001b[32m159.7/159.7 kB\u001b[0m \u001b[31m5.2 MB/s\u001b[0m eta \u001b[36m0:00:00\u001b[0m\n",
            "\u001b[?25h"
          ]
        }
      ],
      "source": [
        "%pip install -U -q google-genai"
      ]
    },
    {
      "cell_type": "markdown",
      "metadata": {
        "id": "CTIfnvCn9HvH"
      },
      "source": [
        "### Setup your API key\n",
        "\n",
        "To run the following cell, your API key must be stored it in a Colab Secret named `GOOGLE_API_KEY`. If you don't already have an API key, or you're not sure how to create a Colab Secret, see [Authentication](../quickstarts/Authentication.ipynb) for an example."
      ]
    },
    {
      "cell_type": "code",
      "execution_count": 5,
      "metadata": {
        "id": "A1pkoyZb9Jm3"
      },
      "outputs": [],
      "source": [
        "from google.colab import userdata\n",
        "\n",
        "GOOGLE_API_KEY=userdata.get('GOOGLE_API_KEY')"
      ]
    },
    {
      "cell_type": "markdown",
      "metadata": {
        "id": "QclzsisW0nTK"
      },
      "source": [
        "### Import the libraries"
      ]
    },
    {
      "cell_type": "code",
      "execution_count": 6,
      "metadata": {
        "id": "cXNAAIqOuXlO"
      },
      "outputs": [],
      "source": [
        "from google import genai\n",
        "from google.genai.types import GenerateContentConfig, Tool\n",
        "from IPython.display import display, HTML, Markdown\n",
        "import io\n",
        "import json\n",
        "import re"
      ]
    },
    {
      "cell_type": "markdown",
      "metadata": {
        "id": "3Hx_Gw9i0Yuv"
      },
      "source": [
        "### Initialize SDK client\n",
        "\n",
        "With the new SDK you now only need to initialize a client with you API key (or OAuth if using [Vertex AI](https://cloud.google.com/vertex-ai)). The model is now set in each call."
      ]
    },
    {
      "cell_type": "code",
      "execution_count": 7,
      "metadata": {
        "id": "HghvVpbU0Uap"
      },
      "outputs": [],
      "source": [
        "client = genai.Client(api_key=GOOGLE_API_KEY)"
      ]
    },
    {
      "cell_type": "markdown",
      "metadata": {
        "id": "QOov6dpG99rY"
      },
      "source": [
        "### Select a model\n",
        "\n",
        "Search tool is a new feature in the Gemini 2.0 model that automatically retrieves accurate and grounded artifacts from the web for developers to further process. Unlike the search grounding in the Gemini 1.5 models, you do not need to set the dynamic retrieval threshold.\n",
        "\n",
        "For more information about all Gemini models, check the [documentation](https://ai.google.dev/gemini-api/docs/models/gemini) for extended information on each of them.\n"
      ]
    },
    {
      "cell_type": "code",
      "execution_count": 11,
      "metadata": {
        "id": "27Fikag0xSaB"
      },
      "outputs": [],
      "source": [
        "MODEL_ID = \"gemini-2.0-flash\" # @param [\"gemini-1.5-flash-latest\",\"gemini-2.0-flash-lite\",\"gemini-2.0-flash\",\"gemini-2.5-pro-exp-03-25\"] {\"allow-input\":true}"
      ]
    },
    {
      "cell_type": "markdown",
      "metadata": {
        "id": "F9lFY3h6unY2"
      },
      "source": [
        "## Write the report with Gemini 2.0"
      ]
    },
    {
      "cell_type": "markdown",
      "metadata": {
        "id": "j562CvvWvASd"
      },
      "source": [
        "### Select a target company to research\n",
        "\n",
        "Next you will use Alphabet as an example research target."
      ]
    },
    {
      "cell_type": "code",
      "execution_count": 12,
      "metadata": {
        "id": "7UQxJr7UvEhl"
      },
      "outputs": [],
      "source": [
        "COMPANY = 'Alphabet' # @param {type:\"string\"}"
      ]
    },
    {
      "cell_type": "markdown",
      "metadata": {
        "id": "HALOE8He78H1"
      },
      "source": [
        "### Have Gemini 2.0 plan for the task and write the report\n",
        "\n",
        "Gemini 2.0 is a huge step up from previous models since it can reason, plan, search and write in one go. In this case, you will only give Gemini 2.0 a prompt to do all of these and the model will finish your task seamlessly. You will also using output streaming, which streams the response as it is being generated, and the model will return chunks of the response as soon as they are generated. If you would like the SDK to return a response after the model completes the entire generation process,  you can use the non-streaming approach as well.\n",
        "\n",
        "Note that you must enable Google Search Suggestions, which help users find search results corresponding to a grounded response, and [display the search queries](https://ai.google.dev/gemini-api/docs/grounding/search-suggestions#display-requirements) that are included in the grounded response's metadata. You can find [more details](https://ai.google.dev/gemini-api/terms#grounding-with-google-search) about this requirement."
      ]
    },
    {
      "cell_type": "markdown",
      "source": [],
      "metadata": {
        "id": "ZFfNtC-HSN5U"
      }
    },
    {
      "cell_type": "code",
      "execution_count": 13,
      "metadata": {
        "id": "IAl2UGtw0LPG",
        "outputId": "9475fb89-6444-4601-875a-c032e271416a",
        "colab": {
          "base_uri": "https://localhost:8080/",
          "height": 1000
        }
      },
      "outputs": [
        {
          "output_type": "display_data",
          "data": {
            "text/plain": [
              "<IPython.core.display.Markdown object>"
            ],
            "text/markdown": "Okay"
          },
          "metadata": {}
        },
        {
          "output_type": "display_data",
          "data": {
            "text/plain": [
              "<IPython.core.display.Markdown object>"
            ],
            "text/markdown": ", I will"
          },
          "metadata": {}
        },
        {
          "output_type": "display_data",
          "data": {
            "text/plain": [
              "<IPython.core.display.Markdown object>"
            ],
            "text/markdown": " research Alphabet and create a company report. Here's my plan:\n\n1.  **"
          },
          "metadata": {}
        },
        {
          "output_type": "display_data",
          "data": {
            "text/plain": [
              "<IPython.core.display.Markdown object>"
            ],
            "text/markdown": "Company Overview:** Briefly describe Alphabet's business, including its main subsidiaries and activities"
          },
          "metadata": {}
        },
        {
          "output_type": "display_data",
          "data": {
            "text/plain": [
              "<IPython.core.display.Markdown object>"
            ],
            "text/markdown": ".\n2.  **Recent News & Developments:** Look for recent news articles and press releases about Alphabet to identify any significant events, product launches, partnerships, or strategic"
          },
          "metadata": {}
        },
        {
          "output_type": "display_data",
          "data": {
            "text/plain": [
              "<IPython.core.display.Markdown object>"
            ],
            "text/markdown": " shifts.\n3.  **Financial Performance:** Gather information on Alphabet's recent financial performance, including revenue, profit, and key growth metrics.\n4"
          },
          "metadata": {}
        },
        {
          "output_type": "display_data",
          "data": {
            "text/plain": [
              "<IPython.core.display.Markdown object>"
            ],
            "text/markdown": ".  **Stock Performance:** Check Alphabet's stock price and recent trends.\n5.  **Major Products & Services:** List and briefly describe Alphabet's key products and services.\n6.  **Competitive Landscape:** Identify Alphabet's"
          },
          "metadata": {}
        },
        {
          "output_type": "display_data",
          "data": {
            "text/plain": [
              "<IPython.core.display.Markdown object>"
            ],
            "text/markdown": " main competitors in its various business segments.\n7.  **Future Outlook:** Summarize the company's prospects and potential challenges.\n\nNow, I'll use Google Search to gather the necessary information.\n\n"
          },
          "metadata": {}
        },
        {
          "output_type": "display_data",
          "data": {
            "text/plain": [
              "<IPython.core.display.Markdown object>"
            ],
            "text/markdown": "---"
          },
          "metadata": {}
        },
        {
          "output_type": "display_data",
          "data": {
            "text/plain": [
              "<IPython.core.display.Markdown object>"
            ],
            "text/markdown": "\n\n"
          },
          "metadata": {}
        },
        {
          "output_type": "display_data",
          "data": {
            "text/plain": [
              "<IPython.core.display.Markdown object>"
            ],
            "text/markdown": "## Alphabet Inc. Company Report\n\n**Company Overview:**\n\nAlphabet Inc. (NASDAQ"
          },
          "metadata": {}
        },
        {
          "output_type": "display_data",
          "data": {
            "text/plain": [
              "<IPython.core.display.Markdown object>"
            ],
            "text/markdown": ": GOOGL, GOOG) is a multinational technology conglomerate headquartered in Mountain View,"
          },
          "metadata": {}
        },
        {
          "output_type": "display_data",
          "data": {
            "text/plain": [
              "<IPython.core.display.Markdown object>"
            ],
            "text/markdown": " California. It was created in 2015 as a restructuring of Google to make the core Google business \"cleaner and more accountable\" while allowing greater autonomy to"
          },
          "metadata": {}
        },
        {
          "output_type": "display_data",
          "data": {
            "text/plain": [
              "<IPython.core.display.Markdown object>"
            ],
            "text/markdown": " other ventures. Alphabet is the parent company of Google and several former Google subsidiaries. It is considered one of the Big Five American information technology companies, alongside Amazon, Apple"
          },
          "metadata": {}
        },
        {
          "output_type": "display_data",
          "data": {
            "text/plain": [
              "<IPython.core.display.Markdown object>"
            ],
            "text/markdown": ", Meta, and Microsoft.\n\n**Recent News & Developments:**\n\n*   **Acquisition of Wiz Inc:** In March 2025, Google announced an agreement to acquire Wiz Inc, a cloud security company, for $3"
          },
          "metadata": {}
        },
        {
          "output_type": "display_data",
          "data": {
            "text/plain": [
              "<IPython.core.display.Markdown object>"
            ],
            "text/markdown": "3 billion.\n*   **Investment in AI Infrastructure:** In February 2025, Alphabet announced plans to invest approximately $75 billion in AI infrastructure in 2025.\n*   **Antitrust Ruling:** In"
          },
          "metadata": {}
        },
        {
          "output_type": "display_data",
          "data": {
            "text/plain": [
              "<IPython.core.display.Markdown object>"
            ],
            "text/markdown": " April 2025, a federal judge ruled that Google unlawfully controlled the online advertising technology sector.\n*   **Google Cloud Next '25:** Recent updates include announcements of new AI capabilities to transform businesses.\n\n**Financial Performance:**\n\n*   **Q4 2024 Results:** Alphabet'"
          },
          "metadata": {}
        },
        {
          "output_type": "display_data",
          "data": {
            "text/plain": [
              "<IPython.core.display.Markdown object>"
            ],
            "text/markdown": "s consolidated revenues in Q4 2024 increased 12% year-over-year to $96.5 billion. Google Services revenues increased 10% to $84.1 billion, and Google Cloud revenues increased 30% to $12.0 billion.\n*   **"
          },
          "metadata": {}
        },
        {
          "output_type": "display_data",
          "data": {
            "text/plain": [
              "<IPython.core.display.Markdown object>"
            ],
            "text/markdown": "Fiscal Year 2024 Results:** Alphabet's revenue for 2024 was $350.02 billion, a 13.87% increase from 2023. Operating income was $112.39 billion, and net income was $10"
          },
          "metadata": {}
        },
        {
          "output_type": "display_data",
          "data": {
            "text/plain": [
              "<IPython.core.display.Markdown object>"
            ],
            "text/markdown": "0.12 billion.\n*   **Q3 2024 Results:** Consolidated Alphabet revenues increased 15% year-over-year to $88.3 billion. Google Services revenues increased 13% to $76.5 billion, and Google Cloud revenues increased 35% to $"
          },
          "metadata": {}
        },
        {
          "output_type": "display_data",
          "data": {
            "text/plain": [
              "<IPython.core.display.Markdown object>"
            ],
            "text/markdown": "11.4 billion.\n*   **Capital Expenditures:** Alphabet expects to invest approximately $75 billion in capital expenditures in 2025.\n\n**Stock Performance:**\n\n*   As of April 18, 2025, the current price of Alphabet Inc. stock is $15"
          },
          "metadata": {}
        },
        {
          "output_type": "display_data",
          "data": {
            "text/plain": [
              "<IPython.core.display.Markdown object>"
            ],
            "text/markdown": "3.36.\n*   The 52-week high is $208.46, and the 52-week low is $142.66.\n*   Alphabet's stock price fell 1.4% on April 17, 2025"
          },
          "metadata": {}
        },
        {
          "output_type": "display_data",
          "data": {
            "text/plain": [
              "<IPython.core.display.Markdown object>"
            ],
            "text/markdown": ", following an unfavorable antitrust ruling.\n\n**Major Products & Services:**\n\n*   **Google Services:** Google Search, Android, Chrome, Google Maps, Google Play, YouTube, Gmail, Google Ads, Google Cloud, Google Gemini.\n*   **Other Bets:** Waymo (self-driving cars), Verily (life sciences"
          },
          "metadata": {}
        },
        {
          "output_type": "display_data",
          "data": {
            "text/plain": [
              "<IPython.core.display.Markdown object>"
            ],
            "text/markdown": "), Wing (drone delivery), Fiber (high-speed internet), Calico (biotech research), Nest (smart-home devices), DeepMind (AI research).\n*   **Hardware:** Pixel phones, smartwatches, Google Nest home products.\n\n**Competitive Landscape:**\n\n*   **Major Competitors:** Microsoft"
          },
          "metadata": {}
        },
        {
          "output_type": "display_data",
          "data": {
            "text/plain": [
              "<IPython.core.display.Markdown object>"
            ],
            "text/markdown": ", Apple, Amazon, Meta, SAP, Palantir Technologies, Shopify, CrowdStrike, AppLovin, Infosys, NetEase, Atlassian, Snowflake, Electronic Arts, IBM.\n\n**Future Outlook:**\n\n*   Analysts forecast Alphabet to grow earnings and revenue by approximately 10% and 9."
          },
          "metadata": {}
        },
        {
          "output_type": "display_data",
          "data": {
            "text/plain": [
              "<IPython.core.display.Markdown object>"
            ],
            "text/markdown": "4% per annum, respectively.\n*   Alphabet is heavily investing in AI and cloud computing, which are expected to be key growth drivers.\n*   The company faces regulatory challenges and intense competition in various sectors.\n*   Wall Street analysts are moderately bullish on Alphabet stock, with an average price target of $"
          },
          "metadata": {}
        },
        {
          "output_type": "display_data",
          "data": {
            "text/plain": [
              "<IPython.core.display.Markdown object>"
            ],
            "text/markdown": "212.50 to $217.22.\n*   One analyst predicts that Alphabet stock could double in the next five years.\n"
          },
          "metadata": {}
        },
        {
          "output_type": "display_data",
          "data": {
            "text/plain": [
              "<IPython.core.display.HTML object>"
            ],
            "text/html": [
              "<style>\n",
              ".container {\n",
              "  align-items: center;\n",
              "  border-radius: 8px;\n",
              "  display: flex;\n",
              "  font-family: Google Sans, Roboto, sans-serif;\n",
              "  font-size: 14px;\n",
              "  line-height: 20px;\n",
              "  padding: 8px 12px;\n",
              "}\n",
              ".chip {\n",
              "  display: inline-block;\n",
              "  border: solid 1px;\n",
              "  border-radius: 16px;\n",
              "  min-width: 14px;\n",
              "  padding: 5px 16px;\n",
              "  text-align: center;\n",
              "  user-select: none;\n",
              "  margin: 0 8px;\n",
              "  -webkit-tap-highlight-color: transparent;\n",
              "}\n",
              ".carousel {\n",
              "  overflow: auto;\n",
              "  scrollbar-width: none;\n",
              "  white-space: nowrap;\n",
              "  margin-right: -12px;\n",
              "}\n",
              ".headline {\n",
              "  display: flex;\n",
              "  margin-right: 4px;\n",
              "}\n",
              ".gradient-container {\n",
              "  position: relative;\n",
              "}\n",
              ".gradient {\n",
              "  position: absolute;\n",
              "  transform: translate(3px, -9px);\n",
              "  height: 36px;\n",
              "  width: 9px;\n",
              "}\n",
              "@media (prefers-color-scheme: light) {\n",
              "  .container {\n",
              "    background-color: #fafafa;\n",
              "    box-shadow: 0 0 0 1px #0000000f;\n",
              "  }\n",
              "  .headline-label {\n",
              "    color: #1f1f1f;\n",
              "  }\n",
              "  .chip {\n",
              "    background-color: #ffffff;\n",
              "    border-color: #d2d2d2;\n",
              "    color: #5e5e5e;\n",
              "    text-decoration: none;\n",
              "  }\n",
              "  .chip:hover {\n",
              "    background-color: #f2f2f2;\n",
              "  }\n",
              "  .chip:focus {\n",
              "    background-color: #f2f2f2;\n",
              "  }\n",
              "  .chip:active {\n",
              "    background-color: #d8d8d8;\n",
              "    border-color: #b6b6b6;\n",
              "  }\n",
              "  .logo-dark {\n",
              "    display: none;\n",
              "  }\n",
              "  .gradient {\n",
              "    background: linear-gradient(90deg, #fafafa 15%, #fafafa00 100%);\n",
              "  }\n",
              "}\n",
              "@media (prefers-color-scheme: dark) {\n",
              "  .container {\n",
              "    background-color: #1f1f1f;\n",
              "    box-shadow: 0 0 0 1px #ffffff26;\n",
              "  }\n",
              "  .headline-label {\n",
              "    color: #fff;\n",
              "  }\n",
              "  .chip {\n",
              "    background-color: #2c2c2c;\n",
              "    border-color: #3c4043;\n",
              "    color: #fff;\n",
              "    text-decoration: none;\n",
              "  }\n",
              "  .chip:hover {\n",
              "    background-color: #353536;\n",
              "  }\n",
              "  .chip:focus {\n",
              "    background-color: #353536;\n",
              "  }\n",
              "  .chip:active {\n",
              "    background-color: #464849;\n",
              "    border-color: #53575b;\n",
              "  }\n",
              "  .logo-light {\n",
              "    display: none;\n",
              "  }\n",
              "  .gradient {\n",
              "    background: linear-gradient(90deg, #1f1f1f 15%, #1f1f1f00 100%);\n",
              "  }\n",
              "}\n",
              "</style>\n",
              "<div class=\"container\">\n",
              "  <div class=\"headline\">\n",
              "    <svg class=\"logo-light\" width=\"18\" height=\"18\" viewBox=\"9 9 35 35\" fill=\"none\" xmlns=\"http://www.w3.org/2000/svg\">\n",
              "      <path fill-rule=\"evenodd\" clip-rule=\"evenodd\" d=\"M42.8622 27.0064C42.8622 25.7839 42.7525 24.6084 42.5487 23.4799H26.3109V30.1568H35.5897C35.1821 32.3041 33.9596 34.1222 32.1258 35.3448V39.6864H37.7213C40.9814 36.677 42.8622 32.2571 42.8622 27.0064V27.0064Z\" fill=\"#4285F4\"/>\n",
              "      <path fill-rule=\"evenodd\" clip-rule=\"evenodd\" d=\"M26.3109 43.8555C30.9659 43.8555 34.8687 42.3195 37.7213 39.6863L32.1258 35.3447C30.5898 36.3792 28.6306 37.0061 26.3109 37.0061C21.8282 37.0061 18.0195 33.9811 16.6559 29.906H10.9194V34.3573C13.7563 39.9841 19.5712 43.8555 26.3109 43.8555V43.8555Z\" fill=\"#34A853\"/>\n",
              "      <path fill-rule=\"evenodd\" clip-rule=\"evenodd\" d=\"M16.6559 29.8904C16.3111 28.8559 16.1074 27.7588 16.1074 26.6146C16.1074 25.4704 16.3111 24.3733 16.6559 23.3388V18.8875H10.9194C9.74388 21.2072 9.06992 23.8247 9.06992 26.6146C9.06992 29.4045 9.74388 32.022 10.9194 34.3417L15.3864 30.8621L16.6559 29.8904V29.8904Z\" fill=\"#FBBC05\"/>\n",
              "      <path fill-rule=\"evenodd\" clip-rule=\"evenodd\" d=\"M26.3109 16.2386C28.85 16.2386 31.107 17.1164 32.9095 18.8091L37.8466 13.8719C34.853 11.082 30.9659 9.3736 26.3109 9.3736C19.5712 9.3736 13.7563 13.245 10.9194 18.8875L16.6559 23.3388C18.0195 19.2636 21.8282 16.2386 26.3109 16.2386V16.2386Z\" fill=\"#EA4335\"/>\n",
              "    </svg>\n",
              "    <svg class=\"logo-dark\" width=\"18\" height=\"18\" viewBox=\"0 0 48 48\" xmlns=\"http://www.w3.org/2000/svg\">\n",
              "      <circle cx=\"24\" cy=\"23\" fill=\"#FFF\" r=\"22\"/>\n",
              "      <path d=\"M33.76 34.26c2.75-2.56 4.49-6.37 4.49-11.26 0-.89-.08-1.84-.29-3H24.01v5.99h8.03c-.4 2.02-1.5 3.56-3.07 4.56v.75l3.91 2.97h.88z\" fill=\"#4285F4\"/>\n",
              "      <path d=\"M15.58 25.77A8.845 8.845 0 0 0 24 31.86c1.92 0 3.62-.46 4.97-1.31l4.79 3.71C31.14 36.7 27.65 38 24 38c-5.93 0-11.01-3.4-13.45-8.36l.17-1.01 4.06-2.85h.8z\" fill=\"#34A853\"/>\n",
              "      <path d=\"M15.59 20.21a8.864 8.864 0 0 0 0 5.58l-5.03 3.86c-.98-2-1.53-4.25-1.53-6.64 0-2.39.55-4.64 1.53-6.64l1-.22 3.81 2.98.22 1.08z\" fill=\"#FBBC05\"/>\n",
              "      <path d=\"M24 14.14c2.11 0 4.02.75 5.52 1.98l4.36-4.36C31.22 9.43 27.81 8 24 8c-5.93 0-11.01 3.4-13.45 8.36l5.03 3.85A8.86 8.86 0 0 1 24 14.14z\" fill=\"#EA4335\"/>\n",
              "    </svg>\n",
              "    <div class=\"gradient-container\"><div class=\"gradient\"></div></div>\n",
              "  </div>\n",
              "  <div class=\"carousel\">\n",
              "    <a class=\"chip\" href=\"https://vertexaisearch.cloud.google.com/grounding-api-redirect/AWQVqALORDc3tRMZ2-Zlf0I2Yv03JPqo9h4pOC6nz-pbk8jbdtaAaLQcwc3r3asvld3Yno8R-gjCKfAgaz-YzTqhQ1lyuI6BFiawm3Ly5kiLL3LTxm2loJkScf98aotb9YFNegqrK3ZdrpUk-zQteFdpZ269BN1byH609RKb6JY433KrJNwSbYnJ0UcguDoA87mNreXOeZ_kCf0E\">Alphabet stock price</a>\n",
              "    <a class=\"chip\" href=\"https://vertexaisearch.cloud.google.com/grounding-api-redirect/AWQVqAJvSDNWIlyCl9HDKK576tlQBhFYjitNmCRSLWHgrRZE9fyoaDb0xUJ0GPo1L4pZs9XwCZsD__mfw4DF4T-huYquGZkCtRJ4z7BCBSa5qYmTKv4Dl_7qZ1SQcsiM5SPGUf_yY3kfAn7DtGSuuIyOEL-uJ7GRh8bxQLNJmC1pOfBjn_SVcIVngFBC7f8tbRRhfQWx1dNOtbmCAXP2dUQd0OEdxQ==\">Alphabet financial performance</a>\n",
              "    <a class=\"chip\" href=\"https://vertexaisearch.cloud.google.com/grounding-api-redirect/AWQVqALOvJAFIamDYpci8JrEXvRzBgRS3D6H9OcLF9q2hEaER4lK8uNhgn5RUqZuxQFvsHYG0gK54Z6yeAOrYrVpOJogit8anoHOJ8JrxBg_gqK0hMlhW-urZRKsbcpe8kYv7lBtpFAPwyuy4swlrnVeU7Doc__ZWUc3gATxKwHx8gCbryjUgzZ9E0TjludsakHJUeP6Ut6Vc023pCeidIs=\">Alphabet company overview</a>\n",
              "    <a class=\"chip\" href=\"https://vertexaisearch.cloud.google.com/grounding-api-redirect/AWQVqALF6NVy9gBLRFMvB3m3uCB5uTuIuuU0BBTfz0XGzJ8iWy41c3_lvD_61fsum0x_9bWp8nrGtbHrvQ2o4xBT4DgtkUVM47pXD5rBUkKIVN6odNVtMC5PYxPMJW5X-RJJ3Hu8JQbTYM0N4QBf3eJveUqD-VCx2h69-LbgB2D_q4Az6bArDm2NwlqLq9j1TdlE9MlS8ZAQHZ-n\">Alphabet recent news</a>\n",
              "    <a class=\"chip\" href=\"https://vertexaisearch.cloud.google.com/grounding-api-redirect/AWQVqAIdQ0aL_8NrLBu4uvVQiy6E052Fu3NyYQu6Lu76mL86TbikYui2wK33dOgBLt52ciHagLe3x69ftGMom6YEuNUyLnImJ4v3FQrL9F_zSDWitSHzLw7gMYvpWDSdl5BDrCGPRs7CezJNlhrPy9gnI3qxig4lz8GgrcX7dEuIRXUeb1aK7JnmrDqBKw0ZSHcs43hYdDb9fFs4Mi5ahs7ZOznPmg==\">Alphabet products and services</a>\n",
              "    <a class=\"chip\" href=\"https://vertexaisearch.cloud.google.com/grounding-api-redirect/AWQVqAIW0GTCFGUDKRHqm3vTUKCN_jjvS8xDX56q6vw92foO9iXV4xczq1OQUYELsj_T3keMNqQspRQoWi6DYrwfFtJWeVO0R16d4X5cNVsT5BPEDmJaJVTRjwywLOIUGDcHATUUTjn0dEKgW7HVYHrO6Uk9FmqrNhDIk70fzyrdr4ansBZ7HB3ujBbPswdXyAJuQFA58_56LStQ\">Alphabet competitors</a>\n",
              "    <a class=\"chip\" href=\"https://vertexaisearch.cloud.google.com/grounding-api-redirect/AWQVqAIhz4yl7IFXiT1v8oZ37gaRYJPmHxK1WywtNeMpjp6Tkp-_vE5vO9O5hJQwE-nrcxh3wmfcHQN7mdWT_Jdr4jED8TLckbya7FqeFjouWIvNzEawhw3F_MfVNv2rn8NhRT5z_-0nR6yvwNKWz1qOKSJ9afwJxGrS--k9haFl0aoT2K_uNIDJjc4CNhQ08NXh8B1RShGcfXCQuSiC\">Alphabet future outlook</a>\n",
              "  </div>\n",
              "</div>\n"
            ]
          },
          "metadata": {}
        }
      ],
      "source": [
        "sys_instruction = \"\"\"You are an analyst that conducts company research.\n",
        "You are given a company name, and you will work on a company report. You have access\n",
        "to Google Search to look up company news, updates and metrics to write research reports.\n",
        "\n",
        "When given a company name, identify key aspects to research, look up that information\n",
        "and then write a concise company report.\n",
        "\n",
        "Feel free to plan your work and talk about it, but when you start writing the report,\n",
        "put a line of dashes (---) to demarcate the report itself, and say nothing else after\n",
        "the report has finished.\n",
        "\"\"\"\n",
        "\n",
        "config = GenerateContentConfig(system_instruction=sys_instruction, tools=[Tool(google_search={})], temperature=0)\n",
        "response_stream = client.models.generate_content_stream(\n",
        "    model=MODEL_ID, config=config, contents=[COMPANY])\n",
        "\n",
        "report = io.StringIO()\n",
        "for chunk in response_stream:\n",
        "  candidate = chunk.candidates[0]\n",
        "\n",
        "  for part in candidate.content.parts:\n",
        "    if part.text:\n",
        "      display(Markdown(part.text))\n",
        "\n",
        "      # Find and save the report itself.\n",
        "      if m := re.search('(^|\\n)-+\\n(.*)$', part.text, re.M):\n",
        "          # Find the starting '---' line and start saving.\n",
        "          report.write(m.group(2))\n",
        "      elif report.tell():\n",
        "        # If there's already something in the buffer, keep recording.\n",
        "        report.write(part.text)\n",
        "\n",
        "    else:\n",
        "      print(json.dumps(part.model_dump(exclude_none=True), indent=2))\n",
        "\n",
        "  # You must enable Google Search Suggestions\n",
        "  if gm := candidate.grounding_metadata:\n",
        "    if sep := gm.search_entry_point:\n",
        "      display(HTML(sep.rendered_content))"
      ]
    },
    {
      "cell_type": "markdown",
      "metadata": {
        "id": "e2gBbhEU-jCo"
      },
      "source": [
        "Very impressive! Gemini 2.0 starts by planning for the task, performing relevant searches and streams out a report for you."
      ]
    },
    {
      "cell_type": "markdown",
      "metadata": {
        "id": "P_JoMFa18Rss"
      },
      "source": [
        "### Final output\n",
        "\n",
        "Render the final output."
      ]
    },
    {
      "cell_type": "code",
      "execution_count": 28,
      "metadata": {
        "id": "1yddCUCL4yKA",
        "outputId": "8f18ec67-4dde-442e-b63f-eff6d0d72839",
        "colab": {
          "base_uri": "https://localhost:8080/",
          "height": 65
        }
      },
      "outputs": [
        {
          "output_type": "display_data",
          "data": {
            "text/plain": [
              "<IPython.core.display.Markdown object>"
            ],
            "text/markdown": ""
          },
          "metadata": {}
        },
        {
          "output_type": "display_data",
          "data": {
            "text/plain": [
              "<IPython.core.display.HTML object>"
            ],
            "text/html": [
              "<style>\n",
              ".container {\n",
              "  align-items: center;\n",
              "  border-radius: 8px;\n",
              "  display: flex;\n",
              "  font-family: Google Sans, Roboto, sans-serif;\n",
              "  font-size: 14px;\n",
              "  line-height: 20px;\n",
              "  padding: 8px 12px;\n",
              "}\n",
              ".chip {\n",
              "  display: inline-block;\n",
              "  border: solid 1px;\n",
              "  border-radius: 16px;\n",
              "  min-width: 14px;\n",
              "  padding: 5px 16px;\n",
              "  text-align: center;\n",
              "  user-select: none;\n",
              "  margin: 0 8px;\n",
              "  -webkit-tap-highlight-color: transparent;\n",
              "}\n",
              ".carousel {\n",
              "  overflow: auto;\n",
              "  scrollbar-width: none;\n",
              "  white-space: nowrap;\n",
              "  margin-right: -12px;\n",
              "}\n",
              ".headline {\n",
              "  display: flex;\n",
              "  margin-right: 4px;\n",
              "}\n",
              ".gradient-container {\n",
              "  position: relative;\n",
              "}\n",
              ".gradient {\n",
              "  position: absolute;\n",
              "  transform: translate(3px, -9px);\n",
              "  height: 36px;\n",
              "  width: 9px;\n",
              "}\n",
              "@media (prefers-color-scheme: light) {\n",
              "  .container {\n",
              "    background-color: #fafafa;\n",
              "    box-shadow: 0 0 0 1px #0000000f;\n",
              "  }\n",
              "  .headline-label {\n",
              "    color: #1f1f1f;\n",
              "  }\n",
              "  .chip {\n",
              "    background-color: #ffffff;\n",
              "    border-color: #d2d2d2;\n",
              "    color: #5e5e5e;\n",
              "    text-decoration: none;\n",
              "  }\n",
              "  .chip:hover {\n",
              "    background-color: #f2f2f2;\n",
              "  }\n",
              "  .chip:focus {\n",
              "    background-color: #f2f2f2;\n",
              "  }\n",
              "  .chip:active {\n",
              "    background-color: #d8d8d8;\n",
              "    border-color: #b6b6b6;\n",
              "  }\n",
              "  .logo-dark {\n",
              "    display: none;\n",
              "  }\n",
              "  .gradient {\n",
              "    background: linear-gradient(90deg, #fafafa 15%, #fafafa00 100%);\n",
              "  }\n",
              "}\n",
              "@media (prefers-color-scheme: dark) {\n",
              "  .container {\n",
              "    background-color: #1f1f1f;\n",
              "    box-shadow: 0 0 0 1px #ffffff26;\n",
              "  }\n",
              "  .headline-label {\n",
              "    color: #fff;\n",
              "  }\n",
              "  .chip {\n",
              "    background-color: #2c2c2c;\n",
              "    border-color: #3c4043;\n",
              "    color: #fff;\n",
              "    text-decoration: none;\n",
              "  }\n",
              "  .chip:hover {\n",
              "    background-color: #353536;\n",
              "  }\n",
              "  .chip:focus {\n",
              "    background-color: #353536;\n",
              "  }\n",
              "  .chip:active {\n",
              "    background-color: #464849;\n",
              "    border-color: #53575b;\n",
              "  }\n",
              "  .logo-light {\n",
              "    display: none;\n",
              "  }\n",
              "  .gradient {\n",
              "    background: linear-gradient(90deg, #1f1f1f 15%, #1f1f1f00 100%);\n",
              "  }\n",
              "}\n",
              "</style>\n",
              "<div class=\"container\">\n",
              "  <div class=\"headline\">\n",
              "    <svg class=\"logo-light\" width=\"18\" height=\"18\" viewBox=\"9 9 35 35\" fill=\"none\" xmlns=\"http://www.w3.org/2000/svg\">\n",
              "      <path fill-rule=\"evenodd\" clip-rule=\"evenodd\" d=\"M42.8622 27.0064C42.8622 25.7839 42.7525 24.6084 42.5487 23.4799H26.3109V30.1568H35.5897C35.1821 32.3041 33.9596 34.1222 32.1258 35.3448V39.6864H37.7213C40.9814 36.677 42.8622 32.2571 42.8622 27.0064V27.0064Z\" fill=\"#4285F4\"/>\n",
              "      <path fill-rule=\"evenodd\" clip-rule=\"evenodd\" d=\"M26.3109 43.8555C30.9659 43.8555 34.8687 42.3195 37.7213 39.6863L32.1258 35.3447C30.5898 36.3792 28.6306 37.0061 26.3109 37.0061C21.8282 37.0061 18.0195 33.9811 16.6559 29.906H10.9194V34.3573C13.7563 39.9841 19.5712 43.8555 26.3109 43.8555V43.8555Z\" fill=\"#34A853\"/>\n",
              "      <path fill-rule=\"evenodd\" clip-rule=\"evenodd\" d=\"M16.6559 29.8904C16.3111 28.8559 16.1074 27.7588 16.1074 26.6146C16.1074 25.4704 16.3111 24.3733 16.6559 23.3388V18.8875H10.9194C9.74388 21.2072 9.06992 23.8247 9.06992 26.6146C9.06992 29.4045 9.74388 32.022 10.9194 34.3417L15.3864 30.8621L16.6559 29.8904V29.8904Z\" fill=\"#FBBC05\"/>\n",
              "      <path fill-rule=\"evenodd\" clip-rule=\"evenodd\" d=\"M26.3109 16.2386C28.85 16.2386 31.107 17.1164 32.9095 18.8091L37.8466 13.8719C34.853 11.082 30.9659 9.3736 26.3109 9.3736C19.5712 9.3736 13.7563 13.245 10.9194 18.8875L16.6559 23.3388C18.0195 19.2636 21.8282 16.2386 26.3109 16.2386V16.2386Z\" fill=\"#EA4335\"/>\n",
              "    </svg>\n",
              "    <svg class=\"logo-dark\" width=\"18\" height=\"18\" viewBox=\"0 0 48 48\" xmlns=\"http://www.w3.org/2000/svg\">\n",
              "      <circle cx=\"24\" cy=\"23\" fill=\"#FFF\" r=\"22\"/>\n",
              "      <path d=\"M33.76 34.26c2.75-2.56 4.49-6.37 4.49-11.26 0-.89-.08-1.84-.29-3H24.01v5.99h8.03c-.4 2.02-1.5 3.56-3.07 4.56v.75l3.91 2.97h.88z\" fill=\"#4285F4\"/>\n",
              "      <path d=\"M15.58 25.77A8.845 8.845 0 0 0 24 31.86c1.92 0 3.62-.46 4.97-1.31l4.79 3.71C31.14 36.7 27.65 38 24 38c-5.93 0-11.01-3.4-13.45-8.36l.17-1.01 4.06-2.85h.8z\" fill=\"#34A853\"/>\n",
              "      <path d=\"M15.59 20.21a8.864 8.864 0 0 0 0 5.58l-5.03 3.86c-.98-2-1.53-4.25-1.53-6.64 0-2.39.55-4.64 1.53-6.64l1-.22 3.81 2.98.22 1.08z\" fill=\"#FBBC05\"/>\n",
              "      <path d=\"M24 14.14c2.11 0 4.02.75 5.52 1.98l4.36-4.36C31.22 9.43 27.81 8 24 8c-5.93 0-11.01 3.4-13.45 8.36l5.03 3.85A8.86 8.86 0 0 1 24 14.14z\" fill=\"#EA4335\"/>\n",
              "    </svg>\n",
              "    <div class=\"gradient-container\"><div class=\"gradient\"></div></div>\n",
              "  </div>\n",
              "  <div class=\"carousel\">\n",
              "    <a class=\"chip\" href=\"https://vertexaisearch.cloud.google.com/grounding-api-redirect/AWQVqAJna3IXi4dgxfdGYUGvw3tlW_vAf7unUU4xsPo2ZVG-G4JjPJfLgOHYEQnz0wROysv9UOrq4KrVxnbWabM3PF2S0cX6Lg-eqxfj52Y6AjKvkg24Jg_BVuFvfyYIW5XYqYZCNMZV-x0qfHrAsxmYXQlI8FodHgi2udZaUX9ylL3Pd-R8tQfRxN-h5gV2GgkQf3zTmrFoQI9v6FzL-nGnmhWZO4f_DbaC\">Alphabet Inc. financial performance</a>\n",
              "    <a class=\"chip\" href=\"https://vertexaisearch.cloud.google.com/grounding-api-redirect/AWQVqALpxcpIHrA0NQNo4mas8xBBaIvv-X-OJb8RGwcAR3EHENscYC-ce_Vdi1fP8NZiX3XBgjrF7zRhqYB8uRcVk2cwRLrF5gLFtndT2xsgwHhuqNjcWOW_XohgfsJ-8V528_UtZIrXD8fOLqV11M3XS-QA2pWiYDBe7E7fMllAn7PstiSALeUyeqW3GViDb9BGZeaqyxnVGf3Y7AE-1Lbagg76ag==\">Alphabet Inc. company overview</a>\n",
              "    <a class=\"chip\" href=\"https://vertexaisearch.cloud.google.com/grounding-api-redirect/AWQVqAJ14TbFJjnUi0uyq_tfGwBCvI9R13bA134mTH6jNdiFWvdvCCIRRPTbQ814jMJEXemKv2HtWLkd1cCeYXedE2RJzilGdwyM-HPnEVm-RwrYKhMjxQE8E6ohIV5a9BWZnVfPhbkR16wU0zYH66CeIKJUnNXXH5HuIG---UOaBwV8b6l0fqXB5llbspzzR6dN9i82-TykEB1o0x0Hqn4=\">Alphabet Inc. recent news</a>\n",
              "    <a class=\"chip\" href=\"https://vertexaisearch.cloud.google.com/grounding-api-redirect/AWQVqALRuJwcIsM_FKNbY_5Ks5xgszRTw0MipP0Tm5xwcb2ChgiSeVzoqDOY6vAlRwtN9gCmmG2dXb_TmwU-bL0dobmph8zZDpwYZ85vEqroGXVgDX4DqfCtVf1iAw4G81SXraiDyHVwG3SMnOsnd4tKDigZezxxh4V5kv0B9pZjZkNJm01ZGU_mlsutHXrmdOeXIybPFUlr4x2tGBhjSVs=\">Alphabet Inc. competitors</a>\n",
              "    <a class=\"chip\" href=\"https://vertexaisearch.cloud.google.com/grounding-api-redirect/AWQVqAKXbkSTo-Vxw0LbjJjq8atoSvzlp__8wfcN4ZCD2eU07vZn2DIhbbCePNc8JcPmlhOixhihypfESC7uQ8LknDfLCTJyKE2ligKmujiEhn1PeUoiewsoxQUA-1jLS_lkplWd_yQgKERMbFMFhJMDIZYK-cx2FNnKV34SJ1cA5THJ2HtEHvjCKkUOUd1DdDJ3feTNtGKzETdJx4iaEU1CKyfSytFxtXJJwfk=\">Alphabet Inc. risks and opportunities</a>\n",
              "    <a class=\"chip\" href=\"https://vertexaisearch.cloud.google.com/grounding-api-redirect/AWQVqALRR4SaMJ0UJ6c-hiDGRz_uwbU3ICNT10woEYAqqliQBD_0a96fKfw__dTK_s5Ygb34zOEvZOOpg12Oukm_AM6-GIu0njlJnIUQgI9P_TExmipF-689_um8WUBH1lWteFDvI9Wz4n5S1-IbPcROmyJXllgUW5VTLqVCWKG4S-SOHoDH21Jlo6t94zk_NkzXEnyxfu809c9lxNn-BlTHQxs5Njs=\">Alphabet Inc. stock performance</a>\n",
              "  </div>\n",
              "</div>\n"
            ]
          },
          "metadata": {}
        }
      ],
      "source": [
        "display(Markdown(report.getvalue().replace('$', r'\\$')))  # Escape $ signs for better MD rendering\n",
        "display(HTML(sep.rendered_content))"
      ]
    },
    {
      "cell_type": "markdown",
      "metadata": {
        "id": "leOZmicAwTSn"
      },
      "source": [
        "As you can see, the Gemini 2.0 model is able to write a concise, accurate and well-structured research report for us. All the information in the report is factual and up-to-date.\n",
        "\n",
        "Note that this tutorial is meant to showcase the capability of the new search tool and inspire interesting use cases, not to build a production research report generator. If you are looking to use a tool, please check out Google [Deep Research](https://blog.google/products/gemini/google-gemini-deep-research/) in the Gemini app."
      ]
    },
    {
      "cell_type": "markdown",
      "metadata": {
        "id": "4677dd58e9b5"
      },
      "source": [
        "## Next Steps\n",
        "\n",
        "* To learn more about the search tool, check out the [Search tool documentation](https://ai.google.dev/gemini-api/docs/models/gemini-v2#search-tool).\n",
        "* To get started with streaming, check out the [Streaming Quickstart](../quickstarts/Streaming.ipynb).\n",
        "* To get started with the search tool, check out the [Search tool quick start](../quickstarts/Search_Grounding.ipynb).\n",
        "* To see how much easier and more powerful the search tool in Gemini 2.0 is than the previous search grounding feature, compare this tutorial with the [previous example](../examples/Search_grounding_for_research_report.ipynb).\n",
        "* To learn more about all the new Gemini 2.0 features, check out the [Gemini 2.0 quickstart notebooks](https://github.com/google-gemini/cookbook/tree/main/gemini-2/)."
      ]
    }
  ],
  "metadata": {
    "colab": {
      "name": "Search_grounding_for_research_report.ipynb",
      "toc_visible": true,
      "provenance": [],
      "include_colab_link": true
    },
    "kernelspec": {
      "display_name": "Python 3",
      "name": "python3"
    }
  },
  "nbformat": 4,
  "nbformat_minor": 0
}